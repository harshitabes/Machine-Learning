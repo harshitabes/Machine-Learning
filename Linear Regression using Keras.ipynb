{
 "cells": [
  {
   "cell_type": "markdown",
   "metadata": {},
   "source": [
    "**Problem Statement:** Given a data sets containing comma seperated interger values both +ve and -ve, Find the mathematical relation between the two coloums\n"
   ]
  },
  {
   "cell_type": "code",
   "execution_count": 66,
   "metadata": {},
   "outputs": [],
   "source": [
    "import tensorflow as tf\n",
    "import numpy as np\n",
    "import pandas as pd\n",
    "import matplotlib.pyplot as plt\n",
    "from tensorflow import keras\n",
    "from tensorflow.keras import layers\n",
    "import tensorflow_docs as tfdocs\n",
    "import tensorflow_docs.plots\n",
    "import tensorflow_docs.modeling"
   ]
  },
  {
   "cell_type": "markdown",
   "metadata": {},
   "source": [
    "# Data Collection And Visualization"
   ]
  },
  {
   "cell_type": "code",
   "execution_count": 67,
   "metadata": {},
   "outputs": [
    {
     "data": {
      "image/png": "[encoded data removed]",
      "text/plain": [
       "<Figure size 432x288 with 1 Axes>"
      ]
     },
     "metadata": {
      "needs_background": "light"
     },
     "output_type": "display_data"
    },
    {
     "name": "stdout",
     "output_type": "stream",
     "text": [
      "(141, 2)\n"
     ]
    },
    {
     "data": {
      "text/html": [
       "<div>\n",
       "<style scoped>\n",
       "    .dataframe tbody tr th:only-of-type {\n",
       "        vertical-align: middle;\n",
       "    }\n",
       "\n",
       "    .dataframe tbody tr th {\n",
       "        vertical-align: top;\n",
       "    }\n",
       "\n",
       "    .dataframe thead th {\n",
       "        text-align: right;\n",
       "    }\n",
       "</style>\n",
       "<table border=\"1\" class=\"dataframe\">\n",
       "  <thead>\n",
       "    <tr style=\"text-align: right;\">\n",
       "      <th></th>\n",
       "      <th>X</th>\n",
       "      <th>Y</th>\n",
       "    </tr>\n",
       "  </thead>\n",
       "  <tbody>\n",
       "    <tr>\n",
       "      <th>count</th>\n",
       "      <td>141.000000</td>\n",
       "      <td>141.000000</td>\n",
       "    </tr>\n",
       "    <tr>\n",
       "      <th>mean</th>\n",
       "      <td>30.000000</td>\n",
       "      <td>86.000000</td>\n",
       "    </tr>\n",
       "    <tr>\n",
       "      <th>std</th>\n",
       "      <td>40.847277</td>\n",
       "      <td>73.525098</td>\n",
       "    </tr>\n",
       "    <tr>\n",
       "      <th>min</th>\n",
       "      <td>-40.000000</td>\n",
       "      <td>-40.000000</td>\n",
       "    </tr>\n",
       "    <tr>\n",
       "      <th>25%</th>\n",
       "      <td>-5.000000</td>\n",
       "      <td>23.000000</td>\n",
       "    </tr>\n",
       "    <tr>\n",
       "      <th>50%</th>\n",
       "      <td>30.000000</td>\n",
       "      <td>86.000000</td>\n",
       "    </tr>\n",
       "    <tr>\n",
       "      <th>75%</th>\n",
       "      <td>65.000000</td>\n",
       "      <td>149.000000</td>\n",
       "    </tr>\n",
       "    <tr>\n",
       "      <th>max</th>\n",
       "      <td>100.000000</td>\n",
       "      <td>212.000000</td>\n",
       "    </tr>\n",
       "  </tbody>\n",
       "</table>\n",
       "</div>"
      ],
      "text/plain": [
       "                X           Y\n",
       "count  141.000000  141.000000\n",
       "mean    30.000000   86.000000\n",
       "std     40.847277   73.525098\n",
       "min    -40.000000  -40.000000\n",
       "25%     -5.000000   23.000000\n",
       "50%     30.000000   86.000000\n",
       "75%     65.000000  149.000000\n",
       "max    100.000000  212.000000"
      ]
     },
     "execution_count": 67,
     "metadata": {},
     "output_type": "execute_result"
    }
   ],
   "source": [
    "# give labels to both columns as x and y\n",
    "column_names = ['X','Y']\n",
    "\n",
    "# read data from csv using pandas\n",
    "df = pd.read_csv('dataset.csv',names=column_names) \n",
    "\n",
    "# plotting the initial data from dataset to get rough estimate about the trend in data provided \n",
    "plt.plot(df['X'].tolist(), df['Y'].tolist(), 'ro', label='Original data')\n",
    "plt.xlabel('First column data') \n",
    "plt.ylabel('Second column data')\n",
    "plt.legend()\n",
    "plt.show()\n",
    "\n",
    "\n",
    "print(df.shape)\n",
    "df.describe()"
   ]
  },
  {
   "cell_type": "markdown",
   "metadata": {},
   "source": [
    "# Data Preparation"
   ]
  },
  {
   "cell_type": "code",
   "execution_count": 68,
   "metadata": {},
   "outputs": [],
   "source": [
    "# Taking training data = 80% of toal data and test data = 20% of total data\n",
    "\n",
    "train_data = df.sample(frac=0.8,random_state=0)\n",
    "test_data = df.drop(train_data.index)\n",
    "\n",
    "\n",
    "train_stats = train_data.describe()\n",
    "train_stats.pop(\"Y\")\n",
    "train_stats = train_stats.transpose()\n",
    "train_stats\n",
    "\n",
    "# remove the label 'Y'. \n",
    "train_labels = train_data.pop('Y')\n",
    "test_labels = test_data.pop('Y')"
   ]
  },
  {
   "cell_type": "code",
   "execution_count": 69,
   "metadata": {},
   "outputs": [],
   "source": [
    "def norm(x):\n",
    "  return (x - train_stats['mean']) / train_stats['std']\n",
    "\n",
    "normed_train_data = norm(train_data)\n",
    "normed_test_data = norm(test_data)"
   ]
  },
  {
   "cell_type": "markdown",
   "metadata": {},
   "source": [
    "# Model Training and Parameter Tuning"
   ]
  },
  {
   "cell_type": "code",
   "execution_count": 70,
   "metadata": {},
   "outputs": [],
   "source": [
    "def build_model():\n",
    "  model = keras.Sequential([\n",
    "    layers.Dense(64, activation='relu', input_shape=[len(train_data.keys())]),\n",
    "    layers.Dense(64, activation='relu'),\n",
    "    layers.Dense(1)\n",
    "  ])\n",
    "\n",
    "  optimizer = tf.keras.optimizers.RMSprop(0.001)\n",
    "\n",
    "  model.compile(loss='mse',\n",
    "                optimizer=optimizer,\n",
    "                metrics=['mse'])\n",
    "  return model\n",
    "\n",
    "model = build_model()"
   ]
  },
  {
   "cell_type": "code",
   "execution_count": 71,
   "metadata": {},
   "outputs": [
    {
     "name": "stdout",
     "output_type": "stream",
     "text": [
      "Model: \"sequential_2\"\n",
      "_________________________________________________________________\n",
      "Layer (type)                 Output Shape              Param #   \n",
      "=================================================================\n",
      "dense_6 (Dense)              (None, 64)                128       \n",
      "_________________________________________________________________\n",
      "dense_7 (Dense)              (None, 64)                4160      \n",
      "_________________________________________________________________\n",
      "dense_8 (Dense)              (None, 1)                 65        \n",
      "=================================================================\n",
      "Total params: 4,353\n",
      "Trainable params: 4,353\n",
      "Non-trainable params: 0\n",
      "_________________________________________________________________\n"
     ]
    }
   ],
   "source": [
    "model.summary()"
   ]
  },
  {
   "cell_type": "code",
   "execution_count": 57,
   "metadata": {},
   "outputs": [
    {
     "name": "stdout",
     "output_type": "stream",
     "text": [
      "\n",
      "Epoch: 0, loss:0.3576,  mae:0.5307,  mse:0.3576,  val_loss:0.0787,  val_mae:0.2114,  val_mse:0.0787,  \n",
      "....................................................................................................\n",
      "Epoch: 100, loss:0.3051,  mae:0.4737,  mse:0.3051,  val_loss:0.4794,  val_mae:0.5344,  val_mse:0.4794,  \n",
      "....................................................................................................\n",
      "Epoch: 200, loss:0.2859,  mae:0.4945,  mse:0.2859,  val_loss:0.0900,  val_mae:0.2546,  val_mse:0.0900,  \n",
      "....................................................................................................\n",
      "Epoch: 300, loss:0.3309,  mae:0.4926,  mse:0.3309,  val_loss:0.1215,  val_mae:0.3133,  val_mse:0.1215,  \n",
      "....................................................................................................\n",
      "Epoch: 400, loss:0.1507,  mae:0.3635,  mse:0.1507,  val_loss:0.3402,  val_mae:0.5453,  val_mse:0.3402,  \n",
      "....................................................................................................\n",
      "Epoch: 500, loss:0.1005,  mae:0.2595,  mse:0.1005,  val_loss:0.2650,  val_mae:0.3779,  val_mse:0.2650,  \n",
      "....................................................................................................\n",
      "Epoch: 600, loss:0.2392,  mae:0.3986,  mse:0.2392,  val_loss:0.3203,  val_mae:0.4159,  val_mse:0.3203,  \n",
      "....................................................................................................\n",
      "Epoch: 700, loss:0.2342,  mae:0.3822,  mse:0.2342,  val_loss:0.3444,  val_mae:0.4323,  val_mse:0.3444,  \n",
      "....................................................................................................\n",
      "Epoch: 800, loss:0.0778,  mae:0.2247,  mse:0.0778,  val_loss:0.0287,  val_mae:0.1321,  val_mse:0.0287,  \n",
      "....................................................................................................\n",
      "Epoch: 900, loss:0.2500,  mae:0.4718,  mse:0.2500,  val_loss:0.1732,  val_mae:0.3520,  val_mse:0.1732,  \n",
      "...................................................................................................."
     ]
    }
   ],
   "source": [
    "history = model.fit(normed_train_data,train_labels,epochs=1000,validation_split = 0.2, verbose=0,\n",
    "  callbacks=[tfdocs.modeling.EpochDots()])"
   ]
  },
  {
   "cell_type": "code",
   "execution_count": 59,
   "metadata": {},
   "outputs": [
    {
     "data": {
      "text/html": [
       "<div>\n",
       "<style scoped>\n",
       "    .dataframe tbody tr th:only-of-type {\n",
       "        vertical-align: middle;\n",
       "    }\n",
       "\n",
       "    .dataframe tbody tr th {\n",
       "        vertical-align: top;\n",
       "    }\n",
       "\n",
       "    .dataframe thead th {\n",
       "        text-align: right;\n",
       "    }\n",
       "</style>\n",
       "<table border=\"1\" class=\"dataframe\">\n",
       "  <thead>\n",
       "    <tr style=\"text-align: right;\">\n",
       "      <th></th>\n",
       "      <th>loss</th>\n",
       "      <th>mse</th>\n",
       "      <th>mae</th>\n",
       "      <th>val_loss</th>\n",
       "      <th>val_mse</th>\n",
       "      <th>val_mae</th>\n",
       "      <th>epoch</th>\n",
       "    </tr>\n",
       "  </thead>\n",
       "  <tbody>\n",
       "    <tr>\n",
       "      <th>995</th>\n",
       "      <td>0.141592</td>\n",
       "      <td>0.141592</td>\n",
       "      <td>0.330990</td>\n",
       "      <td>0.111973</td>\n",
       "      <td>0.111973</td>\n",
       "      <td>0.253798</td>\n",
       "      <td>995</td>\n",
       "    </tr>\n",
       "    <tr>\n",
       "      <th>996</th>\n",
       "      <td>0.195624</td>\n",
       "      <td>0.195624</td>\n",
       "      <td>0.369792</td>\n",
       "      <td>0.339016</td>\n",
       "      <td>0.339016</td>\n",
       "      <td>0.514622</td>\n",
       "      <td>996</td>\n",
       "    </tr>\n",
       "    <tr>\n",
       "      <th>997</th>\n",
       "      <td>0.407134</td>\n",
       "      <td>0.407134</td>\n",
       "      <td>0.580833</td>\n",
       "      <td>0.190961</td>\n",
       "      <td>0.190961</td>\n",
       "      <td>0.382177</td>\n",
       "      <td>997</td>\n",
       "    </tr>\n",
       "    <tr>\n",
       "      <th>998</th>\n",
       "      <td>0.219320</td>\n",
       "      <td>0.219320</td>\n",
       "      <td>0.397327</td>\n",
       "      <td>0.070586</td>\n",
       "      <td>0.070586</td>\n",
       "      <td>0.256292</td>\n",
       "      <td>998</td>\n",
       "    </tr>\n",
       "    <tr>\n",
       "      <th>999</th>\n",
       "      <td>0.087581</td>\n",
       "      <td>0.087581</td>\n",
       "      <td>0.282072</td>\n",
       "      <td>0.079961</td>\n",
       "      <td>0.079961</td>\n",
       "      <td>0.265411</td>\n",
       "      <td>999</td>\n",
       "    </tr>\n",
       "  </tbody>\n",
       "</table>\n",
       "</div>"
      ],
      "text/plain": [
       "         loss       mse       mae  val_loss   val_mse   val_mae  epoch\n",
       "995  0.141592  0.141592  0.330990  0.111973  0.111973  0.253798    995\n",
       "996  0.195624  0.195624  0.369792  0.339016  0.339016  0.514622    996\n",
       "997  0.407134  0.407134  0.580833  0.190961  0.190961  0.382177    997\n",
       "998  0.219320  0.219320  0.397327  0.070586  0.070586  0.256292    998\n",
       "999  0.087581  0.087581  0.282072  0.079961  0.079961  0.265411    999"
      ]
     },
     "execution_count": 59,
     "metadata": {},
     "output_type": "execute_result"
    }
   ],
   "source": [
    "hist = pd.DataFrame(history.history)\n",
    "hist['epoch'] = history.epoch\n",
    "hist.tail()"
   ]
  },
  {
   "cell_type": "markdown",
   "metadata": {},
   "source": [
    "# Model Evaluation"
   ]
  },
  {
   "cell_type": "code",
   "execution_count": 61,
   "metadata": {},
   "outputs": [
    {
     "name": "stdout",
     "output_type": "stream",
     "text": [
      "1/1 - 0s - loss: 0.0784 - mse: 0.0784 - mae: 0.2623\n",
      "Mean squared error for Test Data:  0.26 MPG\n"
     ]
    }
   ],
   "source": [
    "# Results => mean squared error comes out to be 0.03 for test data\n",
    "\n",
    "loss,mae, mse = model.evaluate(normed_test_data, test_labels, verbose=2)\n",
    "\n",
    "print(\"Mean squared error for Test Data: {:5.2f} MPG\".format(mse))"
   ]
  },
  {
   "cell_type": "code",
   "execution_count": 62,
   "metadata": {},
   "outputs": [
    {
     "data": {
      "image/png": "[encoded data removed]",
      "text/plain": [
       "<Figure size 432x288 with 1 Axes>"
      ]
     },
     "metadata": {
      "needs_background": "light"
     },
     "output_type": "display_data"
    }
   ],
   "source": [
    "# plot the original test data as scattered points\n",
    "plt.plot(normed_test_data, test_labels, 'ro', label='Original data')\n",
    "plt.xlabel('Actual Normalized Values for test data')\n",
    "plt.ylabel('Predicted Values for test data')\n",
    "# Compute predictions for test data\n",
    "y_pred = model.predict(normed_test_data) \n",
    "\n",
    "# Plot the linear regression line\n",
    "plt.plot(normed_test_data, y_pred, label='Fitted line')\n",
    "plt.legend()\n",
    "plt.show()"
   ]
  },
  {
   "cell_type": "code",
   "execution_count": 63,
   "metadata": {},
   "outputs": [],
   "source": [
    "def predict_output(X):\n",
    "    output = model.predict(pd.DataFrame([norm(X)])).flatten()\n",
    "    return output[0]"
   ]
  },
  {
   "cell_type": "code",
   "execution_count": 64,
   "metadata": {},
   "outputs": [
    {
     "data": {
      "text/plain": [
       "131.24487"
      ]
     },
     "execution_count": 64,
     "metadata": {},
     "output_type": "execute_result"
    }
   ],
   "source": [
    "predict_output(55)"
   ]
  },
  {
   "cell_type": "code",
   "execution_count": 65,
   "metadata": {},
   "outputs": [
    {
     "data": {
      "text/plain": [
       "109.60259"
      ]
     },
     "execution_count": 65,
     "metadata": {},
     "output_type": "execute_result"
    }
   ],
   "source": [
    "predict_output(43)"
   ]
  },
  {
   "cell_type": "markdown",
   "metadata": {},
   "source": [
    "# Results"
   ]
  },
  {
   "cell_type": "markdown",
   "metadata": {},
   "source": [
    "# Slope = 1.80116\n",
    "# y-intercept = 32.11\n",
    "# Equation : y=1.80*x+32.11"
   ]
  },
  {
   "cell_type": "code",
   "execution_count": null,
   "metadata": {},
   "outputs": [],
   "source": []
  }
 ],
 "metadata": {
  "colab": {
   "collapsed_sections": [],
   "name": "l02c01_celsius_to_fahrenheit.ipynb",
   "private_outputs": true,
   "provenance": [],
   "toc_visible": true
  },
  "kernelspec": {
   "display_name": "Python 3",
   "language": "python",
   "name": "python3"
  },
  "language_info": {
   "codemirror_mode": {
    "name": "ipython",
    "version": 3
   },
   "file_extension": ".py",
   "mimetype": "text/x-python",
   "name": "python",
   "nbconvert_exporter": "python",
   "pygments_lexer": "ipython3",
   "version": "3.7.6"
  }
 },
 "nbformat": 4,
 "nbformat_minor": 1
}
